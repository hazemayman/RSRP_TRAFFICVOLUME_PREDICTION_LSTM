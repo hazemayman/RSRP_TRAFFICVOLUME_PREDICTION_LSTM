{
 "cells": [
  {
   "cell_type": "code",
   "execution_count": 5,
   "id": "5fc2589a",
   "metadata": {},
   "outputs": [],
   "source": [
    "import pandas as pd"
   ]
  },
  {
   "cell_type": "code",
   "execution_count": 6,
   "id": "af428458",
   "metadata": {},
   "outputs": [],
   "source": [
    "RSRP_df = pd.read_csv('RSRP.csv')\n",
    "TRAFFIC_df = pd.read_csv('TrafficVolume.csv')"
   ]
  },
  {
   "cell_type": "code",
   "execution_count": 7,
   "id": "aa421019",
   "metadata": {},
   "outputs": [
    {
     "data": {
      "text/html": [
       "<div>\n",
       "<style scoped>\n",
       "    .dataframe tbody tr th:only-of-type {\n",
       "        vertical-align: middle;\n",
       "    }\n",
       "\n",
       "    .dataframe tbody tr th {\n",
       "        vertical-align: top;\n",
       "    }\n",
       "\n",
       "    .dataframe thead th {\n",
       "        text-align: right;\n",
       "    }\n",
       "</style>\n",
       "<table border=\"1\" class=\"dataframe\">\n",
       "  <thead>\n",
       "    <tr style=\"text-align: right;\">\n",
       "      <th></th>\n",
       "      <th>Timestamp</th>\n",
       "      <th>LocationLatitude</th>\n",
       "      <th>LocationLongitude</th>\n",
       "      <th>RadioConnectionType</th>\n",
       "      <th>Country</th>\n",
       "      <th>RadioNetworkGeneration</th>\n",
       "      <th>RadioOperatorName</th>\n",
       "      <th>RSRP</th>\n",
       "      <th>RadioMobileDataEnabled</th>\n",
       "      <th>DeviceManufacturer</th>\n",
       "      <th>DeviceName</th>\n",
       "    </tr>\n",
       "  </thead>\n",
       "  <tbody>\n",
       "    <tr>\n",
       "      <th>0</th>\n",
       "      <td>2019-11-02 00:09:29.386 +0300</td>\n",
       "      <td>24.54054</td>\n",
       "      <td>46.784737</td>\n",
       "      <td>Mobile</td>\n",
       "      <td>Saudi Arabia</td>\n",
       "      <td>4G</td>\n",
       "      <td>Operator C</td>\n",
       "      <td>2147483647</td>\n",
       "      <td>Enabled</td>\n",
       "      <td>HTC</td>\n",
       "      <td>D728W</td>\n",
       "    </tr>\n",
       "    <tr>\n",
       "      <th>1</th>\n",
       "      <td>2019-11-02 00:09:29.386 +0300</td>\n",
       "      <td>24.54054</td>\n",
       "      <td>46.784737</td>\n",
       "      <td>Mobile</td>\n",
       "      <td>Saudi Arabia</td>\n",
       "      <td>4G</td>\n",
       "      <td>Operator C</td>\n",
       "      <td>2147483647</td>\n",
       "      <td>Enabled</td>\n",
       "      <td>HTC</td>\n",
       "      <td>Desire 728 Dual Sim</td>\n",
       "    </tr>\n",
       "    <tr>\n",
       "      <th>2</th>\n",
       "      <td>2019-11-02 00:10:45.323 +0300</td>\n",
       "      <td>24.54054</td>\n",
       "      <td>46.784737</td>\n",
       "      <td>Mobile</td>\n",
       "      <td>Saudi Arabia</td>\n",
       "      <td>3G</td>\n",
       "      <td>Operator C</td>\n",
       "      <td>2147483647</td>\n",
       "      <td>Enabled</td>\n",
       "      <td>HTC</td>\n",
       "      <td>D728W</td>\n",
       "    </tr>\n",
       "    <tr>\n",
       "      <th>3</th>\n",
       "      <td>2019-11-02 00:10:45.323 +0300</td>\n",
       "      <td>24.54054</td>\n",
       "      <td>46.784737</td>\n",
       "      <td>Mobile</td>\n",
       "      <td>Saudi Arabia</td>\n",
       "      <td>3G</td>\n",
       "      <td>Operator C</td>\n",
       "      <td>2147483647</td>\n",
       "      <td>Enabled</td>\n",
       "      <td>HTC</td>\n",
       "      <td>Desire 728 Dual Sim</td>\n",
       "    </tr>\n",
       "    <tr>\n",
       "      <th>4</th>\n",
       "      <td>2019-11-02 00:11:26.822 +0300</td>\n",
       "      <td>24.54054</td>\n",
       "      <td>46.784737</td>\n",
       "      <td>Mobile</td>\n",
       "      <td>Saudi Arabia</td>\n",
       "      <td>4G</td>\n",
       "      <td>Operator C</td>\n",
       "      <td>2147483647</td>\n",
       "      <td>Enabled</td>\n",
       "      <td>HTC</td>\n",
       "      <td>D728W</td>\n",
       "    </tr>\n",
       "  </tbody>\n",
       "</table>\n",
       "</div>"
      ],
      "text/plain": [
       "                       Timestamp  LocationLatitude  LocationLongitude  \\\n",
       "0  2019-11-02 00:09:29.386 +0300          24.54054          46.784737   \n",
       "1  2019-11-02 00:09:29.386 +0300          24.54054          46.784737   \n",
       "2  2019-11-02 00:10:45.323 +0300          24.54054          46.784737   \n",
       "3  2019-11-02 00:10:45.323 +0300          24.54054          46.784737   \n",
       "4  2019-11-02 00:11:26.822 +0300          24.54054          46.784737   \n",
       "\n",
       "  RadioConnectionType       Country RadioNetworkGeneration RadioOperatorName  \\\n",
       "0              Mobile  Saudi Arabia                     4G        Operator C   \n",
       "1              Mobile  Saudi Arabia                     4G        Operator C   \n",
       "2              Mobile  Saudi Arabia                     3G        Operator C   \n",
       "3              Mobile  Saudi Arabia                     3G        Operator C   \n",
       "4              Mobile  Saudi Arabia                     4G        Operator C   \n",
       "\n",
       "         RSRP RadioMobileDataEnabled DeviceManufacturer           DeviceName  \n",
       "0  2147483647                Enabled                HTC                D728W  \n",
       "1  2147483647                Enabled                HTC  Desire 728 Dual Sim  \n",
       "2  2147483647                Enabled                HTC                D728W  \n",
       "3  2147483647                Enabled                HTC  Desire 728 Dual Sim  \n",
       "4  2147483647                Enabled                HTC                D728W  "
      ]
     },
     "execution_count": 7,
     "metadata": {},
     "output_type": "execute_result"
    }
   ],
   "source": [
    "RSRP_df.head()"
   ]
  },
  {
   "cell_type": "code",
   "execution_count": 8,
   "id": "13f11423",
   "metadata": {},
   "outputs": [
    {
     "data": {
      "text/html": [
       "<div>\n",
       "<style scoped>\n",
       "    .dataframe tbody tr th:only-of-type {\n",
       "        vertical-align: middle;\n",
       "    }\n",
       "\n",
       "    .dataframe tbody tr th {\n",
       "        vertical-align: top;\n",
       "    }\n",
       "\n",
       "    .dataframe thead th {\n",
       "        text-align: right;\n",
       "    }\n",
       "</style>\n",
       "<table border=\"1\" class=\"dataframe\">\n",
       "  <thead>\n",
       "    <tr style=\"text-align: right;\">\n",
       "      <th></th>\n",
       "      <th>Timestamp</th>\n",
       "      <th>LocationLatitude</th>\n",
       "      <th>LocationLongitude</th>\n",
       "      <th>RadioConnectionType</th>\n",
       "      <th>Country</th>\n",
       "      <th>RadioNetworkGeneration</th>\n",
       "      <th>RadioOperatorName</th>\n",
       "      <th>TrafficDirection</th>\n",
       "      <th>TrafficVolume</th>\n",
       "      <th>RadioMobileDataEnabled</th>\n",
       "    </tr>\n",
       "  </thead>\n",
       "  <tbody>\n",
       "    <tr>\n",
       "      <th>0</th>\n",
       "      <td>2019-11-02 00:45:00.000 +0300</td>\n",
       "      <td>24.636574</td>\n",
       "      <td>46.710026</td>\n",
       "      <td>Mobile</td>\n",
       "      <td>Saudi Arabia</td>\n",
       "      <td>3G</td>\n",
       "      <td>Operator A</td>\n",
       "      <td>Downlink</td>\n",
       "      <td>14.957630</td>\n",
       "      <td>Enabled</td>\n",
       "    </tr>\n",
       "    <tr>\n",
       "      <th>1</th>\n",
       "      <td>2019-11-02 00:45:00.000 +0300</td>\n",
       "      <td>24.636124</td>\n",
       "      <td>46.711742</td>\n",
       "      <td>Mobile</td>\n",
       "      <td>Saudi Arabia</td>\n",
       "      <td>3G</td>\n",
       "      <td>Operator A</td>\n",
       "      <td>Uplink</td>\n",
       "      <td>0.304565</td>\n",
       "      <td>Enabled</td>\n",
       "    </tr>\n",
       "    <tr>\n",
       "      <th>2</th>\n",
       "      <td>2019-11-02 00:00:00.000 +0300</td>\n",
       "      <td>24.636728</td>\n",
       "      <td>46.710230</td>\n",
       "      <td>Mobile</td>\n",
       "      <td>Saudi Arabia</td>\n",
       "      <td>3G</td>\n",
       "      <td>Operator A</td>\n",
       "      <td>Downlink</td>\n",
       "      <td>20.965813</td>\n",
       "      <td>Enabled</td>\n",
       "    </tr>\n",
       "    <tr>\n",
       "      <th>3</th>\n",
       "      <td>2019-11-02 00:00:00.000 +0300</td>\n",
       "      <td>24.636705</td>\n",
       "      <td>46.710243</td>\n",
       "      <td>Mobile</td>\n",
       "      <td>Saudi Arabia</td>\n",
       "      <td>3G</td>\n",
       "      <td>Operator A</td>\n",
       "      <td>Uplink</td>\n",
       "      <td>0.706546</td>\n",
       "      <td>Enabled</td>\n",
       "    </tr>\n",
       "    <tr>\n",
       "      <th>4</th>\n",
       "      <td>2019-11-02 02:00:00.000 +0300</td>\n",
       "      <td>24.718973</td>\n",
       "      <td>46.805927</td>\n",
       "      <td>Mobile</td>\n",
       "      <td>Saudi Arabia</td>\n",
       "      <td>4G</td>\n",
       "      <td>Operator B</td>\n",
       "      <td>Uplink</td>\n",
       "      <td>1.471874</td>\n",
       "      <td>Enabled</td>\n",
       "    </tr>\n",
       "  </tbody>\n",
       "</table>\n",
       "</div>"
      ],
      "text/plain": [
       "                       Timestamp  LocationLatitude  LocationLongitude  \\\n",
       "0  2019-11-02 00:45:00.000 +0300         24.636574          46.710026   \n",
       "1  2019-11-02 00:45:00.000 +0300         24.636124          46.711742   \n",
       "2  2019-11-02 00:00:00.000 +0300         24.636728          46.710230   \n",
       "3  2019-11-02 00:00:00.000 +0300         24.636705          46.710243   \n",
       "4  2019-11-02 02:00:00.000 +0300         24.718973          46.805927   \n",
       "\n",
       "  RadioConnectionType       Country RadioNetworkGeneration RadioOperatorName  \\\n",
       "0              Mobile  Saudi Arabia                     3G        Operator A   \n",
       "1              Mobile  Saudi Arabia                     3G        Operator A   \n",
       "2              Mobile  Saudi Arabia                     3G        Operator A   \n",
       "3              Mobile  Saudi Arabia                     3G        Operator A   \n",
       "4              Mobile  Saudi Arabia                     4G        Operator B   \n",
       "\n",
       "  TrafficDirection  TrafficVolume RadioMobileDataEnabled  \n",
       "0         Downlink      14.957630                Enabled  \n",
       "1           Uplink       0.304565                Enabled  \n",
       "2         Downlink      20.965813                Enabled  \n",
       "3           Uplink       0.706546                Enabled  \n",
       "4           Uplink       1.471874                Enabled  "
      ]
     },
     "execution_count": 8,
     "metadata": {},
     "output_type": "execute_result"
    }
   ],
   "source": [
    "TRAFFIC_df.head()"
   ]
  },
  {
   "cell_type": "code",
   "execution_count": 11,
   "id": "0b4c4a0e",
   "metadata": {},
   "outputs": [
    {
     "data": {
      "text/plain": [
       "array([2147483647,        -94,        -89,       -104,       -101,\n",
       "             -103,        -80,        -75,        -85,        -73,\n",
       "              -95,       -100,       -109,        -92,        -72,\n",
       "              -82,        -76,        -69,        -87,        -78,\n",
       "              -71,        -74,        -67,        -68,        -79,\n",
       "              -81,        -77,        -66,        -61,        -97,\n",
       "              -96,        -98,       -106,        -93,        -90,\n",
       "              -91,        -88,        -99,        -84,        -86,\n",
       "              -70,        -83,        -64,        -62,        -63,\n",
       "              -65,       -107,        -59,        -58,        -60,\n",
       "             -110,       -111,       -108,       -117,       -116,\n",
       "             -115,       -102,       -112,       -105,        -44,\n",
       "             -128,       -119,       -124,       -123,        -55,\n",
       "              -54,        -57,       -118,       -126,        -56,\n",
       "             -113,          0,        -53,        -51,       -120,\n",
       "             -114,       -122,       -125,       -129,       -131,\n",
       "             -121,        -52,        -49,       -140,        -48,\n",
       "             -132,       -133,       -134,        -47,        -50,\n",
       "             -136,         12,       -127,       -130], dtype=int64)"
      ]
     },
     "execution_count": 11,
     "metadata": {},
     "output_type": "execute_result"
    }
   ],
   "source": [
    "RSRP_df['RSRP'].unique() "
   ]
  },
  {
   "cell_type": "code",
   "execution_count": 37,
   "id": "881f182b",
   "metadata": {
    "scrolled": false
   },
   "outputs": [
    {
     "name": "stdout",
     "output_type": "stream",
     "text": [
      "Timestamp :  ['2019-11-02 00:09:29.386 +0300' '2019-11-02 00:10:45.323 +0300'\n",
      " '2019-11-02 00:11:26.822 +0300' ... '2019-11-03 14:36:57.390 +0300'\n",
      " '2019-11-03 17:02:08.409 +0300' '2019-11-03 18:05:05.029 +0300']\n",
      "size :  1986303\n",
      "--------------------\n",
      "LocationLatitude :  [24.54054  24.691517 24.612879 ... 24.492819 24.492523 24.492239]\n",
      "size :  210600\n",
      "--------------------\n",
      "LocationLongitude :  [46.784737 46.65258  46.857464 ... 46.93801  46.93864  46.938698]\n",
      "size :  118708\n",
      "--------------------\n",
      "RadioConnectionType :  ['Mobile' 'Unknown' 'WiFi']\n",
      "size :  3\n",
      "--------------------\n",
      "Country :  ['Saudi Arabia' nan]\n",
      "size :  2\n",
      "--------------------\n",
      "RadioNetworkGeneration :  ['4G' '3G' '2G' 'Unknown' 'WiFi']\n",
      "size :  5\n",
      "--------------------\n",
      "RadioOperatorName :  ['Operator C' 'Operator A' 'Operator B']\n",
      "size :  3\n",
      "--------------------\n",
      "RSRP :  [2147483647        -94        -89       -104       -101       -103\n",
      "        -80        -75        -85        -73        -95       -100\n",
      "       -109        -92        -72        -82        -76        -69\n",
      "        -87        -78        -71        -74        -67        -68\n",
      "        -79        -81        -77        -66        -61        -97\n",
      "        -96        -98       -106        -93        -90        -91\n",
      "        -88        -99        -84        -86        -70        -83\n",
      "        -64        -62        -63        -65       -107        -59\n",
      "        -58        -60       -110       -111       -108       -117\n",
      "       -116       -115       -102       -112       -105        -44\n",
      "       -128       -119       -124       -123        -55        -54\n",
      "        -57       -118       -126        -56       -113          0\n",
      "        -53        -51       -120       -114       -122       -125\n",
      "       -129       -131       -121        -52        -49       -140\n",
      "        -48       -132       -133       -134        -47        -50\n",
      "       -136         12       -127       -130        -46        -45\n",
      "       -135       -138         -1]\n",
      "size :  99\n",
      "--------------------\n",
      "RadioMobileDataEnabled :  ['Enabled' 'Disabled']\n",
      "size :  2\n",
      "--------------------\n",
      "DeviceManufacturer :  ['HTC' 'HUAWEI' 'samsung' 'OPPO' 'OnePlus' 'Xiaomi' 'motorola'\n",
      " 'HMD Global' 'Sony' 'Hisense' 'LENOVO' 'Realme' 'LGE' 'ZTE' 'lenovo'\n",
      " 'htc' 'Lenovo' 'TCL' 'vivo' 'PANASONIC' 'OBI' 'SHARP' 'E1' 'realme'\n",
      " 'LAVA' 'Mione' 'LeEco' 'Infinix' 'QMobile']\n",
      "size :  29\n",
      "--------------------\n",
      "DeviceName :  ['D728W' 'Desire 728 Dual Sim' 'Huawei Y5 2019' 'Galaxy J6+' 'Galaxy S7'\n",
      " 'Galaxy S8+' 'Galaxy A50' 'Galaxy Note Fan Edition' 'Desire 10 Lifestyle'\n",
      " 'Galaxy A7(2016)' 'Galaxy A7(2017)' 'Galaxy Note9' 'Galaxy S7 Edge'\n",
      " 'Galaxy S8' 'Huawei P Smart Pro' 'Huawei Y9 Prime 2019' 'Huawei Y9S'\n",
      " 'Y9 Prime 2019' 'Galaxy J7 Neo' 'Reno' 'Oneplus 6' 'Galaxy Note4'\n",
      " 'Galaxy J7 Prime' 'Galaxy On Nxt' 'Poco F1' 'Huawei Nova 3I' 'Nova 3I'\n",
      " 'P20 Pro' 'P20Pro' 'Galaxy Note8' 'Galaxy S9+' 'Galaxy S5 Dual Sim'\n",
      " 'Galaxy S5' 'Galaxy A20' 'Galaxy On7 Prime' 'Galaxy J5 Prime'\n",
      " 'Galaxy S6 Edge' 'Galaxy A7 (2018)' 'Y6Ii' 'Moto E (4) Plus'\n",
      " 'Galaxy A30S' 'Galaxy S6 Edge+' 'Nokia 6' 'Nokia 7 Plus' 'Galaxy A30'\n",
      " 'Xperia Xa Ultra' 'Galaxy A20S' 'Motorola One' 'Galaxy S9' 'F7' 'U988'\n",
      " 'U988Ae' 'U988E-1' 'U988E-2' 'Huawei Mate 20 Pro' 'Mate 20 Pro'\n",
      " 'Mate 10 Lite' 'Galaxy Grand Prime Plus' 'Galaxy Note3' 'Desire 10 Pro'\n",
      " 'Y5 2017' 'P2' 'Mi A2 Lite' 'Y7' 'Galaxy J4' 'Htc One' 'One'\n",
      " 'One Google Play Edition' 'Huawei P Smart 2019' 'Realme X青春版'\n",
      " 'Realme 3Pro' 'Nokia 8' 'Vibe K6 Note' 'Huawei Y9 2019' 'Mate 8'\n",
      " 'Galaxy A10' 'Galaxy S10+' 'Nokia 3.2' 'Galaxy J6' 'Nokia 2.2'\n",
      " 'Nokia 6.2' 'Lg K10 Lte' 'Galaxy Grand Neo Plus' 'Redmi 5 Plus' 'Bolton'\n",
      " 'Honor 10 Lite' 'Galaxy S10' 'Galaxy J8' 'Galaxy J7' 'Lenovo K8 Note'\n",
      " 'Oneplus6T' 'Desire 12+' 'Galaxy A70' 'Redmi Note 7 Pro' 'Huawei Y7 2018'\n",
      " 'Huawei Y7 Prime 2018' 'Galaxy Note5' 'Galaxy A10S' 'Xperia L1' 'Mix 2'\n",
      " 'Xperia X Compact' 'K5 Note' 'Lg K10 Power' 'Lg X Charge' 'Lg X500'\n",
      " 'Galaxy A51' 'Tab 2 A7-30Hc' 'Galaxy J4+' 'Redmi Note 5'\n",
      " 'Redmi Note 5 Pro' '0Pk72' 'One M9+' 'One M9Plus' 'Alcatel 3X'\n",
      " 'Huawei P Smart' 'U Ultra' 'Galaxy Grand2' 'Galaxy On7(2016)'\n",
      " 'Galaxy A5(2017)' 'Desire 12' 'Galaxy A3(2017)' 'Realme 2 Pro'\n",
      " 'Galaxy J7(2016)' 'Galaxy Grand Prime' 'Galaxy J2 Pro' 'Galaxy J2(2016)'\n",
      " 'M10' 'Huawei Nova 2 Plus' 'Vivo 1806' 'Xperia Z2' 'Vivo 1611'\n",
      " 'Galaxy J2 Prime' 'Galaxy A6+' 'Desire 628 Dual Sim'\n",
      " 'Htc Desire 628 Dual Sim' 'Lg K10 (2017)' 'Nokia 3'\n",
      " 'Galaxy Grand Prime Pro' 'Galaxy J2' 'Moto G (5S) Plus' 'Galaxy M30S'\n",
      " 'Desire 830 Dual Sim' 'Galaxy J3(2017)' 'Nokia 5' 'Huawei P30 Lite'\n",
      " 'Honor 10I' 'Alcatel 3' 'Honor 8' 'U11' 'Xperia Xz Premium'\n",
      " 'Galaxy Note10' 'Reno2 Z' 'Lg G4' 'Nokia 6.1 Plus' 'Htc U11+'\n",
      " 'Galaxy A9 (2018)' 'Redmi Note 7' 'Galaxy S4' 'Galaxy A80' 'Galaxy A5'\n",
      " 'Galaxy J5' 'S90-A' 'Mate 10 Pro' 'Honor 9A' 'Huawei Y7 2019'\n",
      " 'Huawei Y7S' 'Y7 Prime 2019' 'Redmi Note 8' 'Nova 3' 'Galaxy J7 Max'\n",
      " 'Xperia X' 'Eluga Arc 2' 'Galaxy Note3 Neo' 'Galaxy S6' 'Galaxy A5(2016)'\n",
      " 'Motorola One Vision' 'Galaxy A8+(2018)' 'Galaxy J3(2016)' 'Nokia 6.1'\n",
      " 'Xperia Xa1' 'Galaxy A6' 'M9' 'One M9' 'Desire 828 Dual Sim'\n",
      " 'Galaxy A8(2018)' 'Honor 8X' 'Lg G6' 'Eluga A4' 'Desire 12S' 'Mi A1'\n",
      " 'P8 Lite' 'Galaxy Note10+' 'Oneplus 7' 'Oneplus5T' 'Mi 9T' 'Redmi K20'\n",
      " 'Z6' 'Z6 Pro' 'Pocofone F1' 'Mi 9' 'Lenovo K10' 'P70' 'Mi A3'\n",
      " 'Lenovo Phab2' 'Xperia Xa1 Ultra' 'Redmi 6' 'V10' 'Galaxy Note Edge'\n",
      " 'Redmi Note 6 Pro' 'Honor 7A' 'Honor 7S' 'Honor 8A Pro' 'Huawei Y6S'\n",
      " 'Honor 8A' 'Huawei Mediapad M3 Lite' 'Nokia 5.1 Plus' 'U12+' 'Moto C'\n",
      " 'Y6 Pro' 'Mi A2' 'Lenovo Vibe P1M' 'Huawei Gr5 2017' 'Ax7' 'Cph1903'\n",
      " 'Galaxy C9 Pro' 'F9' 'Honor View20' 'Alcatel 1X' 'Honor 9X Lite'\n",
      " 'Lg Stylo 2' 'P9' 'Lenovo A6 Note' 'Lenovo K10 Plus' 'Galaxy J2 Core'\n",
      " 'Xperia Xa2 Ultra' 'Huawei P30' 'Huawei Y6 2019' 'Mv1' 'Lg G5'\n",
      " 'Lg X Power' 'F11 Pro' 'Disney Mobile On Docomo Dm-01J' 'Huawei Y9 2018'\n",
      " 'Mi Max 2' 'Vibe X3 Lite' 'Galaxy J3 Pro' 'E1' 'Honor 8S' 'Lg Q6'\n",
      " 'Oneplus5' 'Redmi Note 8 Pro' 'D626Q' 'Desire 626 Dual Sim' 'Honor 6X'\n",
      " 'Vibe K10' 'Duraforce Pro' 'Xperia Z5 Premium Dual' 'Nokia 7.1'\n",
      " 'Redmi 6A' 'Realme 5Pro' 'Realme Q' 'Xperia Z5 Dual' 'Dav' 'P8Max'\n",
      " 'A2020A40' 'Mediapad 7 Youth2' 'Galaxy J1 Ace' 'Eluga Mark 2' 'Sm-J327F'\n",
      " 'Mediapad M3 Lite 10' 'Lg Stylus 2' 'Lg Stylus2' 'P1' 'Redmi Note 5A'\n",
      " 'Mate 7' 'Galaxy J7 Pro' 'Redmi S2' 'Iris50' 'Iris50C'\n",
      " 'Motorola One Macro' 'Xperia Xz2' 'Mix Mini' 'Droid Turbo 2' 'A7000'\n",
      " 'A7000 Plus' 'Lex820' 'X552' 'X552-C1' 'X552-E1' 'X552-F1' 'Z12'\n",
      " 'Galaxy M20']\n",
      "size :  292\n",
      "--------------------\n"
     ]
    }
   ],
   "source": [
    "\n",
    "columns = list(df.columns)\n",
    "for col in columns:\n",
    "    print(col , \": \" , df[col].unique())\n",
    "    print(\"size : \" , len(df[col].unique()))\n",
    "    print(\"-\"*20)"
   ]
  },
  {
   "cell_type": "code",
   "execution_count": null,
   "id": "52301870",
   "metadata": {},
   "outputs": [],
   "source": [
    "missingData = {\n",
    "    RSRP \n",
    "}"
   ]
  },
  {
   "cell_type": "code",
   "execution_count": 15,
   "id": "4a82a138",
   "metadata": {},
   "outputs": [
    {
     "data": {
      "text/plain": [
       "23.619142180847767"
      ]
     },
     "execution_count": 15,
     "metadata": {},
     "output_type": "execute_result"
    }
   ],
   "source": [
    "df.loc[df['RSRP'] == 2147483647].count()[0] / len(df) * 100"
   ]
  },
  {
   "cell_type": "code",
   "execution_count": 54,
   "id": "8d6e8c6c",
   "metadata": {},
   "outputs": [
    {
     "data": {
      "text/plain": [
       "23.86949507091375"
      ]
     },
     "execution_count": 54,
     "metadata": {},
     "output_type": "execute_result"
    }
   ],
   "source": [
    "df.loc[(df['RSRP'] < -140) | (df['RSRP'] > -40) | \n",
    "       (df['RSRP'] == 2147483647) |\n",
    "       (df['RadioConnectionType'] == \"Unknown\") | \n",
    "       (df['RadioConnectionType'] == \"WiFi\") | \n",
    "       (df['RadioNetworkGeneration'] == \"WiFi\") |\n",
    "       (df['RadioNetworkGeneration'] == \"Unknown\") |\n",
    "       (df['Country'] != \"Saudi Arabia\") |\n",
    "       (df['RadioMobileDataEnabled'] == 'Disabled') & ((df['RadioNetworkGeneration'] == '4G')|(df['RadioNetworkGeneration'] == '3G')|(df['RadioNetworkGeneration'] == '2G'))].count()[0] / len(df) * 100"
   ]
  },
  {
   "cell_type": "code",
   "execution_count": 49,
   "id": "5e5158c4",
   "metadata": {},
   "outputs": [
    {
     "data": {
      "text/plain": [
       "Timestamp                 668\n",
       "LocationLatitude          668\n",
       "LocationLongitude         668\n",
       "RadioConnectionType       668\n",
       "Country                   667\n",
       "RadioNetworkGeneration    668\n",
       "RadioOperatorName         668\n",
       "RSRP                      668\n",
       "RadioMobileDataEnabled    668\n",
       "DeviceManufacturer        668\n",
       "DeviceName                668\n",
       "dtype: int64"
      ]
     },
     "execution_count": 49,
     "metadata": {},
     "output_type": "execute_result"
    }
   ],
   "source": [
    "df.loc[df['RadioConnectionType'] == \"Unknown\"].count()"
   ]
  },
  {
   "cell_type": "code",
   "execution_count": 50,
   "id": "de63d5c9",
   "metadata": {},
   "outputs": [
    {
     "data": {
      "text/plain": [
       "23.635947343334973"
      ]
     },
     "execution_count": 50,
     "metadata": {},
     "output_type": "execute_result"
    }
   ],
   "source": [
    "df.loc[(df['RSRP'] < -140) | (df['RSRP'] > -40)].count()[0] / len(df) * 100"
   ]
  },
  {
   "cell_type": "code",
   "execution_count": 52,
   "id": "6a963323",
   "metadata": {},
   "outputs": [
    {
     "data": {
      "text/plain": [
       "0.024840818785676573"
      ]
     },
     "execution_count": 52,
     "metadata": {},
     "output_type": "execute_result"
    }
   ],
   "source": [
    "df.loc[(df['RadioMobileDataEnabled'] == 'Disabled') & ((df['RadioNetworkGeneration'] == '4G')|(df['RadioNetworkGeneration'] == '3G')|(df['RadioNetworkGeneration'] == '2G'))].count()[0] / len(df) * 100"
   ]
  },
  {
   "cell_type": "code",
   "execution_count": null,
   "id": "886ebb8a",
   "metadata": {},
   "outputs": [],
   "source": []
  }
 ],
 "metadata": {
  "kernelspec": {
   "display_name": "Python 3 (ipykernel)",
   "language": "python",
   "name": "python3"
  },
  "language_info": {
   "codemirror_mode": {
    "name": "ipython",
    "version": 3
   },
   "file_extension": ".py",
   "mimetype": "text/x-python",
   "name": "python",
   "nbconvert_exporter": "python",
   "pygments_lexer": "ipython3",
   "version": "3.8.13"
  },
  "vscode": {
   "interpreter": {
    "hash": "c45a06b07089092fd7bef556f2dd103cc0627994de8cffef2cc60e66179cff05"
   }
  }
 },
 "nbformat": 4,
 "nbformat_minor": 5
}
